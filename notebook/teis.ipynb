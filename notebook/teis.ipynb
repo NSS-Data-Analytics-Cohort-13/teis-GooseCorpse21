{
 "cells": [
  {
   "cell_type": "code",
   "execution_count": null,
   "id": "74e19c79-5542-45ac-8922-ea226f5cfaa9",
   "metadata": {},
   "outputs": [],
   "source": [
    "import pandas as pd\n",
    "import numpy as np\n",
    "import matplotlib.pyplot as plt\n",
    "import seaborn as sns"
   ]
  },
  {
   "cell_type": "markdown",
   "id": "98a8cea3-00e4-4c72-873f-de75ebe6b19e",
   "metadata": {},
   "source": [
    "KUDOS TO RYAN, JESSE, AND  DIBRAN FOR THIS CODE!"
   ]
  },
  {
   "cell_type": "code",
   "execution_count": null,
   "id": "c2f08511-bd7c-471a-a9fa-b802996b19c7",
   "metadata": {
    "scrolled": true
   },
   "outputs": [],
   "source": [
    "bdi2 = pd.read_csv('../teis-GooseCorpse21/data/NSS data_BDI2 scores_20200101-20230131_20241106.csv')"
   ]
  },
  {
   "cell_type": "code",
   "execution_count": null,
   "id": "391d2eb8-78ed-4374-ba6f-c7ce5bb22170",
   "metadata": {},
   "outputs": [],
   "source": [
    "bdi2['testDate'] = pd.to_datetime(bdi2['testDate'])"
   ]
  },
  {
   "cell_type": "code",
   "execution_count": null,
   "id": "143f6f8e-39c7-4731-ba76-ac5fb48c32ef",
   "metadata": {},
   "outputs": [],
   "source": [
    "bdi3 = pd.read_excel('../teis-GooseCorpse21/data/NSS data_BDI3 Scores 20230101 20240630_Compiled_20241107.xlsx')"
   ]
  },
  {
   "cell_type": "code",
   "execution_count": null,
   "id": "192b96b5-67e9-4706-9678-d93a82482997",
   "metadata": {},
   "outputs": [],
   "source": [
    "bdi3['Adaptive-Self Care Date of Testing'] = pd.to_datetime(bdi3['Adaptive-Self Care Date of Testing'])"
   ]
  },
  {
   "cell_type": "code",
   "execution_count": null,
   "id": "b4f2caf6-1b4f-4a54-b990-ad596e7f80ad",
   "metadata": {},
   "outputs": [],
   "source": [
    "eco_df = pd.read_excel('../teis-GooseCorpse21/data/NSS_ECO Data Ind 3 FFY 2023-24 20241211.xlsx',sheet_name='ECO with Exit23-24 ')"
   ]
  },
  {
   "cell_type": "code",
   "execution_count": null,
   "id": "142a0335-fbb8-4bf8-a929-8e940adf8a1e",
   "metadata": {},
   "outputs": [],
   "source": [
    "entry_exit = eco_df[(eco_df['OC1 Data Check']==1)][['CHILD_ID','BDI 3\\nECO_Entry_DATE','BDI 3\\nECO_Exit_DATE','BDI2 Entry Date']]"
   ]
  },
  {
   "cell_type": "code",
   "execution_count": null,
   "id": "ef3c43f8-ce6d-47a5-ac4d-f2b8cc140ebd",
   "metadata": {},
   "outputs": [],
   "source": [
    "entry_exit.rename(columns={'CHILD_ID':'TEIDS Child ID'}, inplace=True)"
   ]
  },
  {
   "cell_type": "code",
   "execution_count": null,
   "id": "1bae06f4-09f6-477c-9396-08171fb8a45f",
   "metadata": {},
   "outputs": [],
   "source": [
    "entry_exit = entry_exit[(entry_exit['BDI 3\\nECO_Exit_DATE'].notnull())&((entry_exit['BDI 3\\nECO_Entry_DATE'].notnull())|(entry_exit['BDI2 Entry Date'].notnull()))]"
   ]
  },
  {
   "cell_type": "code",
   "execution_count": null,
   "id": "32531daa-7627-4beb-a7f5-49316a7ca67d",
   "metadata": {},
   "outputs": [],
   "source": [
    "bdi3_exit = entry_exit.merge(bdi3,how='inner',left_on=['TEIDS Child ID','BDI 3\\nECO_Exit_DATE'],right_on=['TEIDS Child ID','Adaptive-Self Care Date of Testing'])"
   ]
  },
  {
   "cell_type": "code",
   "execution_count": null,
   "id": "275265b7-ec47-4786-a803-02096f202076",
   "metadata": {},
   "outputs": [],
   "source": [
    "bdi3_entry = entry_exit.merge(bdi3,how='inner',left_on=['TEIDS Child ID','BDI 3\\nECO_Entry_DATE'],right_on=['TEIDS Child ID','Adaptive-Self Care Date of Testing'])"
   ]
  },
  {
   "cell_type": "code",
   "execution_count": null,
   "id": "9cf95839-9c69-4570-ac94-c5e034eb0580",
   "metadata": {},
   "outputs": [],
   "source": [
    "bdi2_entry_subdomains = entry_exit.merge(bdi2,how='inner',left_on=['TEIDS Child ID','BDI2 Entry Date'],right_on=['Student TEIDS ID','testDate'])"
   ]
  },
  {
   "cell_type": "code",
   "execution_count": null,
   "id": "efa6c603-4c02-4600-b052-20222f8975f5",
   "metadata": {},
   "outputs": [],
   "source": [
    "bdi2_entry_subdomains = bdi2_entry_subdomains[~bdi2_entry_subdomains['testDate'].isnull()]"
   ]
  },
  {
   "cell_type": "code",
   "execution_count": null,
   "id": "4790895c-f652-4b3f-84cf-f6dd668420c3",
   "metadata": {},
   "outputs": [],
   "source": [
    "bdi2_entry = bdi2[bdi2['studentAssessmentID'].isin(bdi2_entry_subdomains['studentAssessmentID'])]"
   ]
  },
  {
   "cell_type": "code",
   "execution_count": null,
   "id": "14a195d8-06d2-4881-a266-062e333a974b",
   "metadata": {},
   "outputs": [],
   "source": [
    "bdi2_entry['Student TEIDS ID'] = bdi2_entry['Student TEIDS ID'].astype('int64')"
   ]
  },
  {
   "cell_type": "code",
   "execution_count": null,
   "id": "2035bba6-d12a-4d32-8343-ac89685b3b0c",
   "metadata": {},
   "outputs": [],
   "source": [
    "bdi3_entry = bdi3_entry[~bdi3_entry['Adaptive-Self Care Date of Testing'].isnull()]"
   ]
  },
  {
   "cell_type": "code",
   "execution_count": null,
   "id": "cd325167-8609-432b-8bee-af761b080f89",
   "metadata": {},
   "outputs": [],
   "source": [
    "bdi2_entry = bdi2_entry[['Student TEIDS ID','domainText','rawScore','DQScore','ZScore']]"
   ]
  },
  {
   "cell_type": "code",
   "execution_count": null,
   "id": "6a381fc2-c13d-456b-bd90-5cd8345f3af7",
   "metadata": {},
   "outputs": [],
   "source": [
    "bdi3_entry = bdi3_entry[['TEIDS Child ID','Adaptive Developmental Quotient','Social-Emotional Developmental Quotient','Communication Developmental Quotient','Motor Developmental Quotient','Cognitive Developmental Quotient','Adaptive-Self Care RS','Adaptive-Self Care Z-Score','Adaptive-Personal Responsibility RS','Adaptive-Personal Responsibility Z-Score','Social Emotional-Adult Interaction RS','Social Emotional-Adult Interaction Z-Score','Social Emotional-Peer Interaction RS','Social Emotional-Peer Interaction Z-Score','Social Emotional-Self Concept / Social Role RS','Social Emotional-Self Concept / Social Role Z-Score','Communication-Receptive Communication RS','Communication-Receptive Communication Z-Score','Communication-Expressive Communication RS','Communication-Expressive Communication Z-Score','Motor-Gross Motor RS','Motor-Gross Motor Z-Score','Motor-Fine Motor RS','Motor-Fine Motor Z-Score','Motor-Perceptual Motor RS','Motor-Perceptual Motor Z-Score','Cognitive-Attention and Memory RS','Cognitive-Attention and Memory Z-Score','Cognitive-Reasoning / Academic Skills RS','Cognitive-Reasoning / Academic Skills Z-Score','Cognitive-Perception and Concepts RS','Cognitive-Perception and Concepts Z-Score']]"
   ]
  },
  {
   "cell_type": "code",
   "execution_count": null,
   "id": "3d004bf8-2d56-4c76-ae8d-63b038853286",
   "metadata": {},
   "outputs": [],
   "source": [
    "bdi3_exit = bdi3_exit[['TEIDS Child ID','Adaptive Developmental Quotient','Social-Emotional Developmental Quotient','Communication Developmental Quotient','Motor Developmental Quotient','Cognitive Developmental Quotient','Adaptive-Self Care RS','Adaptive-Self Care Z-Score','Adaptive-Personal Responsibility RS','Adaptive-Personal Responsibility Z-Score','Social Emotional-Adult Interaction RS','Social Emotional-Adult Interaction Z-Score','Social Emotional-Peer Interaction RS','Social Emotional-Peer Interaction Z-Score','Social Emotional-Self Concept / Social Role RS','Social Emotional-Self Concept / Social Role Z-Score','Communication-Receptive Communication RS','Communication-Receptive Communication Z-Score','Communication-Expressive Communication RS','Communication-Expressive Communication Z-Score','Motor-Gross Motor RS','Motor-Gross Motor Z-Score','Motor-Fine Motor RS','Motor-Fine Motor Z-Score','Motor-Perceptual Motor RS','Motor-Perceptual Motor Z-Score','Cognitive-Attention and Memory RS','Cognitive-Attention and Memory Z-Score','Cognitive-Reasoning / Academic Skills RS','Cognitive-Reasoning / Academic Skills Z-Score','Cognitive-Perception and Concepts RS','Cognitive-Perception and Concepts Z-Score']]"
   ]
  },
  {
   "cell_type": "code",
   "execution_count": null,
   "id": "4c058223-b432-4ed1-ab65-bab2dfda5f99",
   "metadata": {},
   "outputs": [],
   "source": []
  },
  {
   "cell_type": "code",
   "execution_count": null,
   "id": "b8546274-ebe7-47cc-971d-314173ffbccd",
   "metadata": {},
   "outputs": [],
   "source": []
  },
  {
   "cell_type": "code",
   "execution_count": null,
   "id": "33116d70-1639-48a1-bbc9-2439ff0c13a8",
   "metadata": {},
   "outputs": [],
   "source": []
  },
  {
   "cell_type": "code",
   "execution_count": null,
   "id": "0729bfc3-0403-46be-a2d8-4f186fbef7b3",
   "metadata": {},
   "outputs": [],
   "source": []
  },
  {
   "cell_type": "code",
   "execution_count": null,
   "id": "d6fdac87-a1c5-4072-87d7-39b367149297",
   "metadata": {},
   "outputs": [],
   "source": []
  },
  {
   "cell_type": "code",
   "execution_count": null,
   "id": "2048b83e-5edb-4f1f-9a1f-cba954b7251a",
   "metadata": {},
   "outputs": [],
   "source": []
  }
 ],
 "metadata": {
  "kernelspec": {
   "display_name": "Python 3 (ipykernel)",
   "language": "python",
   "name": "python3"
  },
  "language_info": {
   "codemirror_mode": {
    "name": "ipython",
    "version": 3
   },
   "file_extension": ".py",
   "mimetype": "text/x-python",
   "name": "python",
   "nbconvert_exporter": "python",
   "pygments_lexer": "ipython3",
   "version": "3.12.7"
  }
 },
 "nbformat": 4,
 "nbformat_minor": 5
}
